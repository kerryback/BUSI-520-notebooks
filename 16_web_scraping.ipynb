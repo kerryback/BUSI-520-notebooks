{
  "cells": [
    {
      "cell_type": "markdown",
      "metadata": {
        "slideshow": {
          "slide_type": "slide"
        }
      },
      "source": [
        "# Web Scraping\n",
        "\n",
        "### BUSI 520 - Python for Business Research\n",
        "### Kerry Back, JGSB, Rice University"
      ]
    },
    {
      "cell_type": "markdown",
      "metadata": {
        "slideshow": {
          "slide_type": "slide"
        }
      },
      "source": [
        "### Example\n",
        "\n",
        "* Visit creditfixings.com\n",
        "* Click on 2023 Auctions.  That takes us to\n",
        "\n",
        "    https://www.creditfixings.com/CreditEventAuctions/AuctionByYear.jsp?year=2023\n",
        "    \n",
        "* Click on Diamond Sports Group L.L.C.\n",
        "* Click on Diamond Sports Group L.L.C. Auction Results\n",
        "* Click \"I Agree\""
      ]
    },
    {
      "cell_type": "markdown",
      "metadata": {
        "slideshow": {
          "slide_type": "slide"
        }
      },
      "source": [
        "* You should now be at https://www.creditfixings.com/CreditEventAuctions/results.jsp?ticker=DIAMSPO.  \n",
        "* We want the data on this page.  Also, we want the other auctions for 2023 and for other years.\n",
        "* The data is easy.  Use pandas read_html.\n",
        "* To find the data for other auctions, we need to follow the links to find the \"ticker.\"\n",
        "* Pandas read_html reads all tables on a page into a list of dataframes."
      ]
    },
    {
      "cell_type": "code",
      "execution_count": 1,
      "metadata": {
        "slideshow": {
          "slide_type": "slide"
        }
      },
      "outputs": [
        {
          "name": "stdout",
          "output_type": "stream",
          "text": [
            "  Relevant Currency\n",
            "0               USD\n",
            "  Auction Currency Rates  Auction Currency Rates.1\n",
            "0                USD/USD                       1.0\n",
            "                  Dealer   Bid  Offer               Dealer.1\n",
            "0      Barclays Bank PLC  1.00   3.00      Barclays Bank PLC\n",
            "1         BNP Paribas SA  1.00   3.00         BNP Paribas SA\n",
            "2  Bofa Securities, Inc.  1.25   3.25  Bofa Securities, Inc.\n",
            "                  Dealer Bid/Offer    Size\n",
            "0      Barclays Bank PLC     Offer  15.302\n",
            "1         BNP Paribas SA     Offer   0.000\n",
            "2  Bofa Securities, Inc.     Offer   0.000\n",
            "                                0      1\n",
            "0    Sum of Buy Physical Requests   0.0m\n",
            "1   Sum of Sell Physical Requests  44.7m\n",
            "2  Sum of Physical Request Trades   0.0m\n",
            "                       Dealer     Bid  Size\n",
            "0       Bofa Securities, Inc.    2.0*   3.0\n",
            "1  J.P. Morgan Securities LLC  1.875*  10.0\n",
            "2  J.P. Morgan Securities LLC   1.75^  32.7\n"
          ]
        }
      ],
      "source": [
        "import pandas as pd\n",
        "lst = pd.read_html(\n",
        "    \"https://www.creditfixings.com/CreditEventAuctions/results.jsp?ticker=DIAMSPO\" \n",
        ")\n",
        "for data in lst:\n",
        "    print(data.head(3))"
      ]
    },
    {
      "cell_type": "markdown",
      "metadata": {
        "slideshow": {
          "slide_type": "slide"
        }
      },
      "source": [
        "### Read a webpage"
      ]
    },
    {
      "cell_type": "code",
      "execution_count": 2,
      "metadata": {
        "slideshow": {
          "slide_type": "slide"
        }
      },
      "outputs": [
        {
          "data": {
            "text/plain": [
              "'<!DOCTYPE html PUBLIC \"-//W3C//DTD HTML 4.01 Transitional//EN\" >\\n\\n\\n\\n\\n\\n\\n\\n\\n\\n\\n\\n<html>\\n<!DOCTYPE HTML PUBLIC \"-//W3C//DTD HTML 4.01 Transitional//EN\">\\r\\n<html xmlns=\"http://www.w3.org/1999/xhtml\" lang=\"en\" xml:lang=\"en\">\\r\\n<!-- Magnolia delivered pages are identified by full URLs proxy passed pages by relative URLs -->\\r\\n\\n<head>\\n    <title>Year Credit Event Fixing</title>\\n\\t<meta content=\"text/html; charset=UTF-8\" http-equiv=\"Content-Type\"/>\\r\\n<meta content=\"\" name=\"description\"/>\\r\\n<meta content=\"\" name=\"keywords\"/>\\r\\n\\n\\t<link type=\"text/css\" rel=\"stylesheet\"\\nhref=\"/information/affiliations/fixings/css/main.css\" />\\n<link type=\"text/css\" rel=\"stylesheet\"\\nhref=\"/information/affiliations/fixings/css/richEdit.css\" />\\n<link type=\"text/css\" rel=\"stylesheet\"\\nhref=\"/information/affiliations/fixings/css/header.css\" />\\n<link type=\"text/css\" rel=\"stylesheet\"\\nhref=\"/information/affiliations/fixings/css/page_menu.css\" />\\n<style type=\"text/css\">\\n<!-- .style1 {color: #0065FF} .style2 {color: #993333} -->\\n</style>\\n\\t\\n</head>\\n<body >\\n<div id=\"centerholder\">\\n\\n<div id=\"header\">\\n    <div id=\"topleft\">\\n        <a target=\"_blank\" href=\"http://www.creditex.com\"><img alt=\"Creditex\" class=\"creditex\" height=\"33\" width=\"169\" src=\"/information/affiliations/fixings/img/logo_creditex.gif\" /></a>\\n    </div>\\n    <div id=\"topright\">\\n        <a target=\"_blank\" href=\"http://www.markit.com\"><img class=\"markit\" alt=\"Markit Group Limited\" height=\"50\" width=\"160\" src=\"/information/affiliations/fixings/img/logo_S&P.png\" /></a>\\n    </div>\\n</div>\\n\\n<div id=\"main\">\\n\\r\\n<div id=\"twocol1\">\\n    <div class=\"moreoptionsboxpanel\">\\n        <div class=\"panelHeader\" style=\"padding-top: 11px; height: 25px; font-size: 15px\">\\n            <div class=\"panelHeaderContent\">\\n                Credit Event Fixings\\n            </div>\\n        </div>\\n        <div class=\"panelLink\">\\n    \\t\\t<a class=\"activelink\" href=\"/CreditEventAuctions/fixings.jsp\">\\n        \\t\\tHome\\n \\t\\t\\t</a>\\n\\t\\t</div>\\n        <script>\\n        \\tfunction loadFrame(ele){    \\t            \\t\\n    \\t\\t\\tele.height = (ele.contentWindow.document.body.scrollHeight) + \\'px\\';    \\t\\t\\t    \\t\\t\\t    \\t\\t\\t\\n        \\t} \\n    \\t</script> \\n\\t\\t<iframe id=\"autoHeight\" scrolling=\"no\" width=\"100%\" src=\"/CreditEventAuctions/years.jsp\" onload=\"loadFrame(this);\"></iframe>\\n        <div class=\"panelHeader\" style=\"height: 25px; padding-top: 10px; font-size: 15px\">\\n            <div class=\"panelHeaderContent\">\\n                Information\\n            </div>\\n        </div>\\n        <div class=\"panelLink\">\\n            <a href=\"/information/affiliations/fixings/about/about.shtml\">\\n                Fixings Services\\n            </a>\\n        </div>\\n        <div class=\"panelLink\">\\n            <a href=\"/information/affiliations/fixings/about/creditex.shtml\">\\n                About Creditex\\n            </a>\\n        </div>\\n        <div class=\"panelLink\">\\n            <a href=\"/information/affiliations/fixings/about/markit.shtml\">\\n                About Markit\\n            </a>\\n        </div>\\n    </div>\\n</div>\\n\\r\\n<div id=\"twocol2\">\\n    <a href=\"/CreditEventAuctions/fixings.jsp\">\\n        <img alt=\"Credit Fixings\" height=\"110\" width=\"798\" class=\"nowrap\"\\n        src=\"/information/affiliations/fixings/img/banner_ad.jpg\"/>\\n    </a>\\n\\r\\n\\n<div class=\"boxtitle\">\\n\\t\\n    2023&nbsp;Auctions\\n</div>\\n<div class=\"boxpanel\">\\n<p>\\nClick a company name to view the details and results for a particular\\nCredit Event Fixing.\\n</p>\\n<p>\\n\\t\\t                <p><span class=\"standalonelink\">\\n        \\t\\t\\t    \\t<a href=\"holdings.jsp?auctionId=9175\" TARGET=\"_top\">\\n                    \\t\\tCASINO GUICHARDPERRACHON - 25 September 2023\\n                    \\t</a></span></p>\\n\\t\\t                <p><span class=\"standalonelink\">\\n        \\t\\t\\t    \\t<a href=\"holdings.jsp?auctionId=9174\" TARGET=\"_top\">\\n                    \\t\\tVue Entmt Intl Ltd (Bucket 1) - 14 September 2023\\n                    \\t</a></span></p>\\n\\t\\t                <p><span class=\"standalonelink\">\\n        \\t\\t\\t    \\t<a href=\"holdings.jsp?auctionId=9173\" TARGET=\"_top\">\\n                    \\t\\tDIAMOND SPORTS GROUP LLC - 13 April 2023\\n                    \\t</a></span></p>\\n\\n</p>\\n\\t<div id=\"footer\">\\n    Data source:\\n    <a href=\"http://www.creditex.com\" target=\"_blank\">\\n        Creditex Group Inc.&trade;</a>\\n    and\\n    <a href=\"http://www.markit.com\" target=\"_blank\">\\n        Markit Group Limited&trade;</a>\\n    . &copy;\\n    <script type=\"text/javascript\">\\n        <!-- tdate = new Date(); document.write(tdate.getFullYear()); //-->\\n    </script>\\n    Creditex Group Inc.&trade; and Markit Group Limited&trade; ALL DATA \\n    PROVIDED AS IS, WITH NO WARRANTIES. All rights reserved. Data may not be\\n    reproduced or redistributed in any form, except as expressly authorized \\n    by Creditex Group Inc. or Markit Group Limited.\\n    <script type=\"text/javascript\"\\n        src=\"/information/affiliations/fixings/js/leadlander.js\">\\n    </script>\\n</div>\\n\\n</div>\\n</body>\\n</html>'"
            ]
          },
          "execution_count": 2,
          "metadata": {},
          "output_type": "execute_result"
        }
      ],
      "source": [
        "import requests\n",
        "session = requests.Session() \n",
        "\n",
        "url = \"https://www.creditfixings.com/CreditEventAuctions/AuctionByYear.jsp?year=2023\"\n",
        "html = session.get(url).text\n",
        "html"
      ]
    },
    {
      "cell_type": "markdown",
      "metadata": {
        "slideshow": {
          "slide_type": "slide"
        }
      },
      "source": [
        "### Extract the elements of a page"
      ]
    },
    {
      "cell_type": "code",
      "execution_count": 3,
      "metadata": {
        "slideshow": {
          "slide_type": "slide"
        }
      },
      "outputs": [
        {
          "data": {
            "text/plain": [
              "<!DOCTYPE html PUBLIC \"-//W3C//DTD HTML 4.01 Transitional//EN\" >\n",
              "\n",
              "<html>\n",
              "<!DOCTYPE HTML PUBLIC \"-//W3C//DTD HTML 4.01 Transitional//EN\">\n",
              "\n",
              "<html lang=\"en\" xml:lang=\"en\" xmlns=\"http://www.w3.org/1999/xhtml\">\n",
              "<!-- Magnolia delivered pages are identified by full URLs proxy passed pages by relative URLs -->\n",
              "<head>\n",
              "<title>Year Credit Event Fixing</title>\n",
              "<meta content=\"text/html; charset=utf-8\" http-equiv=\"Content-Type\"/>\n",
              "<meta content=\"\" name=\"description\"/>\n",
              "<meta content=\"\" name=\"keywords\"/>\n",
              "<link href=\"/information/affiliations/fixings/css/main.css\" rel=\"stylesheet\" type=\"text/css\"/>\n",
              "<link href=\"/information/affiliations/fixings/css/richEdit.css\" rel=\"stylesheet\" type=\"text/css\"/>\n",
              "<link href=\"/information/affiliations/fixings/css/header.css\" rel=\"stylesheet\" type=\"text/css\"/>\n",
              "<link href=\"/information/affiliations/fixings/css/page_menu.css\" rel=\"stylesheet\" type=\"text/css\"/>\n",
              "<style type=\"text/css\">\n",
              "<!-- .style1 {color: #0065FF} .style2 {color: #993333} -->\n",
              "</style>\n",
              "</head>\n",
              "<body>\n",
              "<div id=\"centerholder\">\n",
              "<div id=\"header\">\n",
              "<div id=\"topleft\">\n",
              "<a href=\"http://www.creditex.com\" target=\"_blank\"><img alt=\"Creditex\" class=\"creditex\" height=\"33\" src=\"/information/affiliations/fixings/img/logo_creditex.gif\" width=\"169\"/></a>\n",
              "</div>\n",
              "<div id=\"topright\">\n",
              "<a href=\"http://www.markit.com\" target=\"_blank\"><img alt=\"Markit Group Limited\" class=\"markit\" height=\"50\" src=\"/information/affiliations/fixings/img/logo_S&amp;P.png\" width=\"160\"/></a>\n",
              "</div>\n",
              "</div>\n",
              "<div id=\"main\">\n",
              "<div id=\"twocol1\">\n",
              "<div class=\"moreoptionsboxpanel\">\n",
              "<div class=\"panelHeader\" style=\"padding-top: 11px; height: 25px; font-size: 15px\">\n",
              "<div class=\"panelHeaderContent\">\n",
              "                Credit Event Fixings\n",
              "            </div>\n",
              "</div>\n",
              "<div class=\"panelLink\">\n",
              "<a class=\"activelink\" href=\"/CreditEventAuctions/fixings.jsp\">\n",
              "        \t\tHome\n",
              " \t\t\t</a>\n",
              "</div>\n",
              "<script>\n",
              "        \tfunction loadFrame(ele){    \t            \t\n",
              "    \t\t\tele.height = (ele.contentWindow.document.body.scrollHeight) + 'px';    \t\t\t    \t\t\t    \t\t\t\n",
              "        \t} \n",
              "    \t</script>\n",
              "<iframe id=\"autoHeight\" onload=\"loadFrame(this);\" scrolling=\"no\" src=\"/CreditEventAuctions/years.jsp\" width=\"100%\"></iframe>\n",
              "<div class=\"panelHeader\" style=\"height: 25px; padding-top: 10px; font-size: 15px\">\n",
              "<div class=\"panelHeaderContent\">\n",
              "                Information\n",
              "            </div>\n",
              "</div>\n",
              "<div class=\"panelLink\">\n",
              "<a href=\"/information/affiliations/fixings/about/about.shtml\">\n",
              "                Fixings Services\n",
              "            </a>\n",
              "</div>\n",
              "<div class=\"panelLink\">\n",
              "<a href=\"/information/affiliations/fixings/about/creditex.shtml\">\n",
              "                About Creditex\n",
              "            </a>\n",
              "</div>\n",
              "<div class=\"panelLink\">\n",
              "<a href=\"/information/affiliations/fixings/about/markit.shtml\">\n",
              "                About Markit\n",
              "            </a>\n",
              "</div>\n",
              "</div>\n",
              "</div>\n",
              "<div id=\"twocol2\">\n",
              "<a href=\"/CreditEventAuctions/fixings.jsp\">\n",
              "<img alt=\"Credit Fixings\" class=\"nowrap\" height=\"110\" src=\"/information/affiliations/fixings/img/banner_ad.jpg\" width=\"798\"/>\n",
              "</a>\n",
              "<div class=\"boxtitle\">\n",
              "\t\n",
              "    2023 Auctions\n",
              "</div>\n",
              "<div class=\"boxpanel\">\n",
              "<p>\n",
              "Click a company name to view the details and results for a particular\n",
              "Credit Event Fixing.\n",
              "</p>\n",
              "<p>\n",
              "<p><span class=\"standalonelink\">\n",
              "<a href=\"holdings.jsp?auctionId=9175\" target=\"_top\">\n",
              "                    \t\tCASINO GUICHARDPERRACHON - 25 September 2023\n",
              "                    \t</a></span></p>\n",
              "<p><span class=\"standalonelink\">\n",
              "<a href=\"holdings.jsp?auctionId=9174\" target=\"_top\">\n",
              "                    \t\tVue Entmt Intl Ltd (Bucket 1) - 14 September 2023\n",
              "                    \t</a></span></p>\n",
              "<p><span class=\"standalonelink\">\n",
              "<a href=\"holdings.jsp?auctionId=9173\" target=\"_top\">\n",
              "                    \t\tDIAMOND SPORTS GROUP LLC - 13 April 2023\n",
              "                    \t</a></span></p>\n",
              "</p>\n",
              "<div id=\"footer\">\n",
              "    Data source:\n",
              "    <a href=\"http://www.creditex.com\" target=\"_blank\">\n",
              "        Creditex Group Inc.™</a>\n",
              "    and\n",
              "    <a href=\"http://www.markit.com\" target=\"_blank\">\n",
              "        Markit Group Limited™</a>\n",
              "    . ©\n",
              "    <script type=\"text/javascript\">\n",
              "        <!-- tdate = new Date(); document.write(tdate.getFullYear()); //-->\n",
              "    </script>\n",
              "    Creditex Group Inc.™ and Markit Group Limited™ ALL DATA \n",
              "    PROVIDED AS IS, WITH NO WARRANTIES. All rights reserved. Data may not be\n",
              "    reproduced or redistributed in any form, except as expressly authorized \n",
              "    by Creditex Group Inc. or Markit Group Limited.\n",
              "    <script src=\"/information/affiliations/fixings/js/leadlander.js\" type=\"text/javascript\">\n",
              "</script>\n",
              "</div>\n",
              "</div>\n",
              "</div></div></div></body>\n",
              "</html></html>"
            ]
          },
          "execution_count": 3,
          "metadata": {},
          "output_type": "execute_result"
        }
      ],
      "source": [
        "from bs4 import BeautifulSoup\n",
        "\n",
        "soup = BeautifulSoup(html, \"html.parser\")\n",
        "soup"
      ]
    },
    {
      "cell_type": "markdown",
      "metadata": {
        "slideshow": {
          "slide_type": "slide"
        }
      },
      "source": [
        "### Extract links containing a string\n",
        "\n",
        "By viewing the source, we can see that the links to the individual auctions contain \"holdings.jsp.\""
      ]
    },
    {
      "cell_type": "code",
      "execution_count": 4,
      "metadata": {
        "slideshow": {
          "slide_type": "slide"
        }
      },
      "outputs": [
        {
          "data": {
            "text/plain": [
              "[<a href=\"holdings.jsp?auctionId=9175\" target=\"_top\">\n",
              "                     \t\tCASINO GUICHARDPERRACHON - 25 September 2023\n",
              "                     \t</a>,\n",
              " <a href=\"holdings.jsp?auctionId=9174\" target=\"_top\">\n",
              "                     \t\tVue Entmt Intl Ltd (Bucket 1) - 14 September 2023\n",
              "                     \t</a>,\n",
              " <a href=\"holdings.jsp?auctionId=9173\" target=\"_top\">\n",
              "                     \t\tDIAMOND SPORTS GROUP LLC - 13 April 2023\n",
              "                     \t</a>]"
            ]
          },
          "execution_count": 4,
          "metadata": {},
          "output_type": "execute_result"
        }
      ],
      "source": [
        "anchors = soup.select('a[href^=\"holdings.jsp\"]') \n",
        "anchors"
      ]
    },
    {
      "cell_type": "markdown",
      "metadata": {
        "slideshow": {
          "slide_type": "slide"
        }
      },
      "source": [
        "### Extract elements of an anchor"
      ]
    },
    {
      "cell_type": "code",
      "execution_count": 5,
      "metadata": {
        "slideshow": {
          "slide_type": "slide"
        }
      },
      "outputs": [
        {
          "name": "stdout",
          "output_type": "stream",
          "text": [
            "text is CASINO GUICHARDPERRACHON - 25 September 2023\n",
            "url is holdings.jsp?auctionId=9175\n"
          ]
        }
      ],
      "source": [
        "anchor = anchors[0]\n",
        "text = anchor.text.strip()\n",
        "url = anchor.get(\"href\")\n",
        "print(\"text is\", text)\n",
        "print(\"url is\", url)"
      ]
    },
    {
      "cell_type": "markdown",
      "metadata": {
        "slideshow": {
          "slide_type": "slide"
        }
      },
      "source": [
        "### Go to one of those pages and extract links containing a string\n",
        "\n",
        "By viewing the source of one of the holdings pages, we can see that the results of the auction are at the link containing \"results.jsp.\""
      ]
    },
    {
      "cell_type": "code",
      "execution_count": 6,
      "metadata": {
        "slideshow": {
          "slide_type": "slide"
        }
      },
      "outputs": [
        {
          "data": {
            "text/plain": [
              "[<a href=\"results.jsp?ticker=GROUPE\">CASINO GUICHARDPERRACHON Auction Results</a>]"
            ]
          },
          "execution_count": 6,
          "metadata": {},
          "output_type": "execute_result"
        }
      ],
      "source": [
        "url = anchor.get('href')\n",
        "url = f'https://www.creditfixings.com/CreditEventAuctions/{url}'\n",
        "html = session.get(url).text\n",
        "soup = BeautifulSoup(html, \"html.parser\")\n",
        "anchors = soup.select('a[href^=\"results.jsp\"]') \n",
        "anchors"
      ]
    },
    {
      "cell_type": "markdown",
      "metadata": {
        "slideshow": {
          "slide_type": "slide"
        }
      },
      "source": [
        "### Extract the link and read the page with pandas read_html"
      ]
    },
    {
      "cell_type": "code",
      "execution_count": 7,
      "metadata": {
        "slideshow": {
          "slide_type": "slide"
        }
      },
      "outputs": [
        {
          "name": "stdout",
          "output_type": "stream",
          "text": [
            "  Relevant Currency\n",
            "0               EUR\n",
            "                             Dealer   Bid  Offer  \\\n",
            "0                 Barclays Bank PLC  0.50   2.50   \n",
            "1                       BNP Paribas  0.25   2.25   \n",
            "2  Citigroup Global Markets Limited  0.75   2.75   \n",
            "\n",
            "                           Dealer.1  \n",
            "0                 Barclays Bank PLC  \n",
            "1                       BNP Paribas  \n",
            "2  Citigroup Global Markets Limited  \n",
            "                             Dealer Bid/Offer  Size\n",
            "0                 Barclays Bank PLC     Offer   0.0\n",
            "1                       BNP Paribas     Offer  21.8\n",
            "2  Citigroup Global Markets Limited     Offer   0.0\n",
            "                                0       1\n",
            "0    Sum of Buy Physical Requests   61.0m\n",
            "1   Sum of Sell Physical Requests  258.3m\n",
            "2  Sum of Physical Request Trades   61.0m\n",
            "                        Dealer     Bid  Size\n",
            "0   J.P. Morgan Securities PLC  2.625*  50.0\n",
            "1   J.P. Morgan Securities PLC    1.5*  10.0\n",
            "2  Goldman Sachs International  1.375*  25.0\n"
          ]
        }
      ],
      "source": [
        "anchor = anchors[0]\n",
        "url = anchor.get('href')\n",
        "url = f'https://www.creditfixings.com/CreditEventAuctions/{url}'\n",
        "\n",
        "lst = pd.read_html(url)\n",
        "for df in lst:\n",
        "    print(df.head(3))"
      ]
    },
    {
      "cell_type": "markdown",
      "metadata": {},
      "source": [
        "### Extract all auction data for a single year\n",
        "\n",
        "This is everything, including imports, to get all of the data for a single year.  Put it in a loop over years to get multiple years.  Note that years < 2010 were coded differently, so it won't work for them."
      ]
    },
    {
      "cell_type": "code",
      "execution_count": null,
      "metadata": {},
      "outputs": [],
      "source": [
        "import requests\n",
        "session = requests.Session() \n",
        "import pandas as pd\n",
        "from bs4 import BeautifulSoup\n",
        "\n",
        "url = \"https://www.creditfixings.com/CreditEventAuctions/AuctionByYear.jsp?year=2023\"\n",
        "html = session.get(url).text\n",
        "soup = BeautifulSoup(html, \"html.parser\")\n",
        "anchors = soup.select('a[href^=\"holdings.jsp\"]') \n",
        "for anchor in anchors:\n",
        "    text = anchor.text.strip()\n",
        "    url = anchor.get(\"href\")\n",
        "    url = f'https://www.creditfixings.com/CreditEventAuctions/{url}'\n",
        "    html = session.get(url).text\n",
        "    soup = BeautifulSoup(html, \"html.parser\")\n",
        "    anchors = soup.select('a[href^=\"results.jsp\"]') \n",
        "    anchor = anchors[0]\n",
        "    url = anchor.get('href')\n",
        "    url = f'https://www.creditfixings.com/CreditEventAuctions/{url}'\n",
        "\n",
        "    lst = pd.read_html(url)\n",
        "    for i, df in enumerate(lst):\n",
        "        df.to_csv(f\"{text}_{i}.csv\")"
      ]
    }
  ],
  "metadata": {
    "colab": {
      "include_colab_link": true,
      "provenance": []
    },
    "kernelspec": {
      "display_name": "Python 3.10.3 ('venv': venv)",
      "language": "python",
      "name": "python3"
    },
    "language_info": {
      "codemirror_mode": {
        "name": "ipython",
        "version": 3
      },
      "file_extension": ".py",
      "mimetype": "text/x-python",
      "name": "python",
      "nbconvert_exporter": "python",
      "pygments_lexer": "ipython3",
      "version": "3.10.8"
    },
    "orig_nbformat": 4,
    "vscode": {
      "interpreter": {
        "hash": "e9c182eb2c6b77cc7a6e636d1b5173df89a0a80b42c041014ee844b6f22ab6ab"
      }
    }
  },
  "nbformat": 4,
  "nbformat_minor": 0
}
